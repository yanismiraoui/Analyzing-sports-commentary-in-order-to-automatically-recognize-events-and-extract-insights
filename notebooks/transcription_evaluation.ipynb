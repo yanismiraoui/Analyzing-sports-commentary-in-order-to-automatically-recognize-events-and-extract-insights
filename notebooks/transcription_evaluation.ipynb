{
 "cells": [
  {
   "cell_type": "markdown",
   "metadata": {},
   "source": [
    "# Transcription of the audio data and evaluation of its quality"
   ]
  },
  {
   "cell_type": "markdown",
   "metadata": {},
   "source": [
    "This notebook aims to transcribe the audio data obtained from Egoli Media using the Google Spech-to-Text API. It also intends to evaluate the quality of the textual data obtained by the transcription."
   ]
  },
  {
   "cell_type": "code",
   "execution_count": null,
   "metadata": {},
   "outputs": [],
   "source": [
    "#Importing essential modules for the transcription\n",
    "import pandas as pd \n",
    "import numpy as np \n",
    "import speech_recognition as sr\n",
    "import os \n",
    "from pydub import AudioSegment\n",
    "from pydub.silence import split_on_silence"
   ]
  },
  {
   "cell_type": "code",
   "execution_count": null,
   "metadata": {},
   "outputs": [],
   "source": [
    "filename = \"short.wav\"\n",
    "r = sr.Recognizer()\n",
    "\n",
    "#open the file\n",
    "with sr.AudioFile(filename) as source:\n",
    "    #listen for the data\n",
    "    audio_data = r.record(source, duration=300)\n",
    "    audio_data = r.record(source, duration=29)\n",
    "\n",
    "    #recognize (convert from speech to text)\n",
    "    text = r.recognize_google(audio_data, language='en-UK', show_all=True)\n",
    "    print(text)\n",
    "\n",
    "\n"
   ]
  },
  {
   "cell_type": "code",
   "execution_count": null,
   "metadata": {},
   "outputs": [],
   "source": [
    "#Create a speech recognition object\n",
    "r = sr.Recognizer()\n",
    "\n",
    "#Function that splits the audio file into chunks and applies speech recognition\n",
    "def get_large_audio_transcription(path):\n",
    "    \"\"\"\n",
    "    Splitting the large audio file into chunks\n",
    "    and apply speech recognition on each of these chunks\n",
    "    \"\"\"\n",
    "    #Open the audio file using pydub\n",
    "    sound = AudioSegment.from_wav(path)  \n",
    "    #Split audio sound where silence is 700 miliseconds or more and get chunks\n",
    "    chunks = split_on_silence(sound,\n",
    "        min_silence_len = 300,\n",
    "        silence_thresh = -2,\n",
    "        keep_silence=500,\n",
    "    )\n",
    "    folder_name = \"audio-chunks\"\n",
    "    #Create a directory to store the audio chunks\n",
    "    if not os.path.isdir(folder_name):\n",
    "        os.mkdir(folder_name)\n",
    "    whole_text = \"\"\n",
    "    print(\"chunks created\")\n",
    "    #Process each chunk \n",
    "    for i, audio_chunk in enumerate(chunks, start=1):\n",
    "        chunk_filename = os.path.join(folder_name, f\"chunk{i}.wav\")\n",
    "        audio_chunk.export(chunk_filename, format=\"wav\")\n",
    "        #Recognize the chunk\n",
    "        with sr.AudioFile(chunk_filename) as source:\n",
    "            audio_listened = r.record(source)\n",
    "            #Try converting it to text\n",
    "            try:\n",
    "                text = r.recognize_google(audio_listened)\n",
    "            except sr.UnknownValueError as e:\n",
    "                print(\"Error:\", str(e))\n",
    "            except sr.RequestError:\n",
    "                print(\"Error Request\")\n",
    "            else:\n",
    "                text = f\"{text.capitalize()}. \"\n",
    "                print(chunk_filename, \":\", text)\n",
    "                whole_text += text\n",
    "    return whole_text\n",
    "\n",
    "path = \"short.wav\"\n",
    "print(\"\\nFull text:\", get_large_audio_transcription(path))"
   ]
  },
  {
   "cell_type": "code",
   "execution_count": null,
   "metadata": {},
   "outputs": [],
   "source": [
    "#Opening the transcript of the Premier League audio if the previous step is not working because API limitations \n",
    "import json\n",
    "with open('transcript_premierleague.json') as json_file:\n",
    "    data = json.load(json_file)\n",
    "\n",
    "whole_text = \"\"\n",
    "for comment in data[\"results\"]:\n",
    "    whole_text += comment[\"alternatives\"][0][\"transcript\"]\n",
    "print(whole_text)"
   ]
  },
  {
   "cell_type": "code",
   "execution_count": null,
   "metadata": {},
   "outputs": [],
   "source": [
    "#Opening the transcript of the Paralympic audio if the previous step is not working because API limitations \n",
    "with open('transcript_paralympic.txt') as f:\n",
    "    lines = f.readlines()\n",
    "whole_text = \" \".join(lines).replace('\"', \"\")\n",
    "print(whole_text)"
   ]
  },
  {
   "cell_type": "markdown",
   "metadata": {},
   "source": [
    " We can easily notice that these transcriptions look very inaccurate and unreliable. It would be very difficult to build a high-performing event recognition and classification model with this data. Therefore, we will make use of the textual data obtained from live score websites to pursue our study. "
   ]
  }
 ],
 "metadata": {
  "interpreter": {
   "hash": "fc3427c6d2cd72c0b758687794cc4b81fbb4315a6f5ccbdd0b4b5f06effbd279"
  },
  "kernelspec": {
   "display_name": "Python 3.8.8 64-bit ('base': conda)",
   "language": "python",
   "name": "python3"
  },
  "language_info": {
   "codemirror_mode": {
    "name": "ipython",
    "version": 3
   },
   "file_extension": ".py",
   "mimetype": "text/x-python",
   "name": "python",
   "nbconvert_exporter": "python",
   "pygments_lexer": "ipython3",
   "version": "3.8.8"
  },
  "orig_nbformat": 4
 },
 "nbformat": 4,
 "nbformat_minor": 2
}
